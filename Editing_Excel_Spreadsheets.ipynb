{
 "cells": [
  {
   "cell_type": "markdown",
   "metadata": {},
   "source": [
    "## How to play with excel files using python"
   ]
  },
  {
   "cell_type": "markdown",
   "metadata": {},
   "source": [
    "### Introduction"
   ]
  },
  {
   "cell_type": "markdown",
   "metadata": {},
   "source": [
    "We will learn the basics of **openpyxl** python package which enable us to read and write excel files by creating scripts in the following codes."
   ]
  },
  {
   "cell_type": "markdown",
   "metadata": {},
   "source": [
    "As you know, employees in the IT industry spend most of their time in excel sheets and writing Visual Basic for Applications. Thanks to openpyxl, we can use python scripting language to process all cleaning and manipulation of large datasets, which are more easier than VBA macros. "
   ]
  },
  {
   "cell_type": "markdown",
   "metadata": {},
   "source": [
    "### Loading Packages"
   ]
  },
  {
   "cell_type": "markdown",
   "metadata": {},
   "source": [
    "Execute the following commands to install necessary python packages"
   ]
  },
  {
   "cell_type": "code",
   "execution_count": 214,
   "metadata": {},
   "outputs": [],
   "source": [
    "import os\n",
    "import openpyxl\n",
    "from openpyxl import workbook, load_workbook\n",
    "\n",
    "# to get the column letter \n",
    "from openpyxl.utils import get_column_letter\n",
    "\n",
    "# to change cell formatting styles\n",
    "from openpyxl.styles import PatternFill, Font\n"
   ]
  },
  {
   "cell_type": "code",
   "execution_count": 215,
   "metadata": {},
   "outputs": [],
   "source": [
    "# set file path\n",
    "filepath = \"jobs.xlsx\""
   ]
  },
  {
   "cell_type": "code",
   "execution_count": 216,
   "metadata": {},
   "outputs": [
    {
     "data": {
      "text/plain": [
       "<openpyxl.workbook.workbook.Workbook at 0x11a147e50>"
      ]
     },
     "execution_count": 216,
     "metadata": {},
     "output_type": "execute_result"
    }
   ],
   "source": [
    "# create a workbook object\n",
    "wb = load_workbook(filepath)\n",
    "wb"
   ]
  },
  {
   "cell_type": "code",
   "execution_count": 217,
   "metadata": {},
   "outputs": [
    {
     "name": "stderr",
     "output_type": "stream",
     "text": [
      "<ipython-input-217-eb37acbcf154>:3: DeprecationWarning: Call to deprecated function get_sheet_names (Use wb.sheetnames).\n",
      "  wb.get_sheet_names()\n"
     ]
    },
    {
     "data": {
      "text/plain": [
       "['Sheet_1']"
      ]
     },
     "execution_count": 217,
     "metadata": {},
     "output_type": "execute_result"
    }
   ],
   "source": [
    "# Two methods to see the sheets in the excel file\n",
    "# First \n",
    "wb.get_sheet_names()"
   ]
  },
  {
   "cell_type": "code",
   "execution_count": 218,
   "metadata": {},
   "outputs": [
    {
     "name": "stdout",
     "output_type": "stream",
     "text": [
      "<Worksheet \"Sheet_1\">\n"
     ]
    }
   ],
   "source": [
    "# Second\n",
    "for sheet in wb:\n",
    "    print(sheet)"
   ]
  },
  {
   "cell_type": "markdown",
   "metadata": {},
   "source": [
    "### Add a sheet to existing workbook"
   ]
  },
  {
   "cell_type": "code",
   "execution_count": 220,
   "metadata": {},
   "outputs": [],
   "source": [
    "# load workbook\n",
    "wb = load_workbook(filepath)"
   ]
  },
  {
   "cell_type": "code",
   "execution_count": 221,
   "metadata": {},
   "outputs": [
    {
     "data": {
      "text/plain": [
       "<Worksheet \"new_sheet\">"
      ]
     },
     "execution_count": 221,
     "metadata": {},
     "output_type": "execute_result"
    }
   ],
   "source": [
    "# create new sheet\n",
    "wb.create_sheet('new_sheet')"
   ]
  },
  {
   "cell_type": "code",
   "execution_count": 222,
   "metadata": {},
   "outputs": [],
   "source": [
    "wb.save(filepath)"
   ]
  },
  {
   "cell_type": "code",
   "execution_count": 223,
   "metadata": {},
   "outputs": [
    {
     "name": "stdout",
     "output_type": "stream",
     "text": [
      "<Worksheet \"Sheet_1\">\n",
      "<Worksheet \"new_sheet\">\n"
     ]
    }
   ],
   "source": [
    "for sheet in wb:\n",
    "    print(sheet)"
   ]
  },
  {
   "cell_type": "markdown",
   "metadata": {},
   "source": [
    "### Lets choose specific sheet to work on"
   ]
  },
  {
   "cell_type": "code",
   "execution_count": 226,
   "metadata": {},
   "outputs": [
    {
     "name": "stderr",
     "output_type": "stream",
     "text": [
      "<ipython-input-226-aa224beb54f4>:1: DeprecationWarning: Call to deprecated function get_sheet_by_name (Use wb[sheetname]).\n",
      "  sheet = wb.get_sheet_by_name('new_sheet')\n"
     ]
    },
    {
     "data": {
      "text/plain": [
       "<Worksheet \"new_sheet\">"
      ]
     },
     "execution_count": 226,
     "metadata": {},
     "output_type": "execute_result"
    }
   ],
   "source": [
    "sheet = wb.get_sheet_by_name('new_sheet')\n",
    "# sheet = wb[\"Sheet_1\"]  \n",
    "sheet"
   ]
  },
  {
   "cell_type": "code",
   "execution_count": 227,
   "metadata": {},
   "outputs": [
    {
     "data": {
      "text/plain": [
       "True"
      ]
     },
     "execution_count": 227,
     "metadata": {},
     "output_type": "execute_result"
    }
   ],
   "source": [
    "sheet['A1'].value == None"
   ]
  },
  {
   "cell_type": "code",
   "execution_count": 228,
   "metadata": {},
   "outputs": [],
   "source": [
    "# Append a header\n",
    "to_append = [\"Job_Title\", \"Years_Experience\", \"Salary\", 'Age']\n",
    "sheet.append(to_append)\n",
    "\n",
    "# you have to save it to see the result\n",
    "wb.save('jobs.xlsx')"
   ]
  },
  {
   "cell_type": "markdown",
   "metadata": {},
   "source": [
    "### Remove a sheet from an existing workbook"
   ]
  },
  {
   "cell_type": "code",
   "execution_count": 240,
   "metadata": {},
   "outputs": [],
   "source": [
    "# load workbook\n",
    "wb = load_workbook(filepath)"
   ]
  },
  {
   "cell_type": "code",
   "execution_count": 241,
   "metadata": {},
   "outputs": [
    {
     "name": "stderr",
     "output_type": "stream",
     "text": [
      "<ipython-input-241-31563d7a308e>:2: DeprecationWarning: Call to deprecated function get_sheet_by_name (Use wb[sheetname]).\n",
      "  del_sheet = wb.get_sheet_by_name('new_sheet')\n"
     ]
    }
   ],
   "source": [
    "# find the sheet to be deleted\n",
    "del_sheet = wb.get_sheet_by_name('new_sheet')\n",
    "\n",
    "# remove a sheet\n",
    "wb.remove(del_sheet)"
   ]
  },
  {
   "cell_type": "code",
   "execution_count": 242,
   "metadata": {},
   "outputs": [],
   "source": [
    "# save workbook\n",
    "wb.save(filepath)"
   ]
  },
  {
   "cell_type": "markdown",
   "metadata": {},
   "source": [
    "### Lets write a script to update excel file"
   ]
  },
  {
   "cell_type": "markdown",
   "metadata": {},
   "source": [
    "#### The following steps will be applied:\n",
    "- Load the table and choose active sheet\n",
    "- Delete unncessary column\n",
    "- Change the header background blue\n",
    "- Change the header font bold\n"
   ]
  },
  {
   "cell_type": "code",
   "execution_count": 230,
   "metadata": {},
   "outputs": [
    {
     "data": {
      "text/plain": [
       "<openpyxl.workbook.workbook.Workbook at 0x119fc0610>"
      ]
     },
     "execution_count": 230,
     "metadata": {},
     "output_type": "execute_result"
    }
   ],
   "source": [
    "wb = load_workbook('jobs.xlsx')\n",
    "wb"
   ]
  },
  {
   "cell_type": "code",
   "execution_count": 231,
   "metadata": {},
   "outputs": [],
   "source": [
    "# choose active sheet\n",
    "ws = wb.active"
   ]
  },
  {
   "cell_type": "code",
   "execution_count": 232,
   "metadata": {},
   "outputs": [],
   "source": [
    "# delete 5th column because it does not add value to data\n",
    "ws.delete_cols(5)"
   ]
  },
  {
   "cell_type": "code",
   "execution_count": 233,
   "metadata": {},
   "outputs": [],
   "source": [
    "# make header bold and blue background and fill parameters\n",
    "my_fill = PatternFill(start_color=\"1255CC\",\n",
    "                     end_color=\"1255CC\",\n",
    "                     fill_type=\"solid\")"
   ]
  },
  {
   "cell_type": "code",
   "execution_count": 234,
   "metadata": {},
   "outputs": [],
   "source": [
    "# Bold parameters\n",
    "my_font = Font(bold=True)"
   ]
  },
  {
   "cell_type": "code",
   "execution_count": 235,
   "metadata": {},
   "outputs": [],
   "source": [
    "my_header = ['A1', 'B1', 'C1', 'D1']\n",
    "\n",
    "for cell in my_header:\n",
    "    ws[cell].fill = my_fill\n",
    "    ws[cell].font = my_font"
   ]
  },
  {
   "cell_type": "code",
   "execution_count": 236,
   "metadata": {},
   "outputs": [],
   "source": [
    "# add new values\n",
    "employees = [('Teacher', 3, 49000, 41),\n",
    "            ('Business Analyst', 7, 83000, 38),\n",
    "            ('Software Engineer', 6, 96000, 35)]\n",
    "\n",
    "for row in employees:\n",
    "    ws.append(row)"
   ]
  },
  {
   "cell_type": "code",
   "execution_count": 237,
   "metadata": {},
   "outputs": [],
   "source": [
    "# you have to save it to see the result\n",
    "wb.save('jobs.xlsx')"
   ]
  },
  {
   "cell_type": "markdown",
   "metadata": {},
   "source": [
    "### Iterate over all cells and print the values"
   ]
  },
  {
   "cell_type": "code",
   "execution_count": 238,
   "metadata": {},
   "outputs": [
    {
     "name": "stdout",
     "output_type": "stream",
     "text": [
      "Job_Title | Years_Experience | Salary | Age | \n",
      "\n",
      "Data Analyst | 3 | 65000 | 32 | \n",
      "\n",
      "Data Scientist | 2 | 75000 | 29 | \n",
      "\n",
      "Electrical Engineer | 6 | 90000 | 34 | \n",
      "\n",
      "DevOps Engineer | 5 | 85000 | 33 | \n",
      "\n",
      "Civil Engineer | 3 | 67000 | 30 | \n",
      "\n",
      "Teacher | 3 | 49000 | 41 | \n",
      "\n",
      "Business Analyst | 7 | 83000 | 38 | \n",
      "\n",
      "Software Engineer | 6 | 96000 | 35 | \n",
      "\n",
      "Teacher | 3 | 49000 | 41 | \n",
      "\n",
      "Business Analyst | 7 | 83000 | 38 | \n",
      "\n",
      "Software Engineer | 6 | 96000 | 35 | \n",
      "\n"
     ]
    }
   ],
   "source": [
    "# maximum row number\n",
    "max_row_n = ws.max_row\n",
    "\n",
    "# maximum column number\n",
    "max_col_n = ws.max_column\n",
    "\n",
    "# iterate over all rows\n",
    "for i in range(1, max_row_n + 1):\n",
    "    \n",
    "    # iterate over all columns\n",
    "    for j in range(1, max_col_n + 1):\n",
    "        \n",
    "        # get current cell value\n",
    "        cell_val = ws.cell(row=i, column=j)\n",
    "        \n",
    "        # print current cell value\n",
    "        print(cell_val.value, end=' | ')\n",
    "        \n",
    "    # go to new line\n",
    "    print('\\n')\n"
   ]
  },
  {
   "cell_type": "markdown",
   "metadata": {},
   "source": [
    "As you see, openpyxl python library is very efficient at excel sheets. It is similar to creating a macros to automate repetitive tasks. If you need to update just a few values on excel sheet you do not need to load the whole file, just apply python script with openpyxl."
   ]
  },
  {
   "cell_type": "markdown",
   "metadata": {},
   "source": [
    "I hope you liked it."
   ]
  }
 ],
 "metadata": {
  "kernelspec": {
   "display_name": "Python 3",
   "language": "python",
   "name": "python3"
  },
  "language_info": {
   "codemirror_mode": {
    "name": "ipython",
    "version": 3
   },
   "file_extension": ".py",
   "mimetype": "text/x-python",
   "name": "python",
   "nbconvert_exporter": "python",
   "pygments_lexer": "ipython3",
   "version": "3.8.5"
  }
 },
 "nbformat": 4,
 "nbformat_minor": 4
}
